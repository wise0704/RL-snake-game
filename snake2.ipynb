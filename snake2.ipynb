{
 "cells": [
  {
   "cell_type": "markdown",
   "metadata": {},
   "source": [
    "# Game"
   ]
  },
  {
   "cell_type": "code",
   "execution_count": null,
   "metadata": {},
   "outputs": [],
   "source": [
    "import enum\n",
    "import random\n",
    "from abc import abstractmethod\n",
    "from collections import deque\n",
    "from typing import Deque, Protocol, Tuple\n",
    "\n",
    "import pygame\n",
    "from pygame.color import Color\n",
    "from pygame.event import Event\n",
    "from pygame.surface import Surface"
   ]
  },
  {
   "cell_type": "code",
   "execution_count": null,
   "metadata": {},
   "outputs": [],
   "source": [
    "pygame.init()\n",
    "\n",
    "\n",
    "class Point(Protocol):\n",
    "    x: int\n",
    "    y: int\n",
    "\n",
    "\n",
    "class DisplayObject:\n",
    "    def __init__(self, color: Color) -> None:\n",
    "        self.color = color\n",
    "\n",
    "    @abstractmethod\n",
    "    def draw(self, surface: Surface, gridSize: float) -> None:\n",
    "        raise NotImplementedError()\n",
    "\n",
    "\n",
    "class Block(DisplayObject):\n",
    "    def __init__(self, color: Color, x: int, y: int) -> None:\n",
    "        super().__init__(color)\n",
    "        self.x = x\n",
    "        self.y = y\n",
    "\n",
    "    def hitTest(self, target: Point) -> bool:\n",
    "        return self.x == target.x and self.y == target.y\n",
    "\n",
    "    def draw(self, surface: Surface, gridSize: float) -> None:\n",
    "        pygame.draw.rect(surface, self.color, pygame.Rect(\n",
    "            self.x * gridSize + 1,\n",
    "            self.y * gridSize + 1,\n",
    "            gridSize - 2,\n",
    "            gridSize - 2))\n",
    "\n",
    "\n",
    "class Apple(Block):\n",
    "    def __init__(self, color: Color, x: int, y: int) -> None:\n",
    "        super().__init__(color, x, y)\n",
    "\n",
    "\n",
    "class Snake(DisplayObject):\n",
    "    def __init__(self, color: Color) -> None:\n",
    "        super().__init__(color)\n",
    "        self.tails: Deque[Block] = deque()\n",
    "\n",
    "    def reset(self, x: int, y: int, length: int) -> None:\n",
    "        self.x = x\n",
    "        self.y = y\n",
    "        self.vx = 0\n",
    "        self.vy = 0\n",
    "        self.length = length\n",
    "        self.tails.clear()\n",
    "        self.tails.append(Block(self.color, self.x, self.y))\n",
    "\n",
    "    def hitTest(self, target: Point) -> bool:\n",
    "        return any(tail.hitTest(target) for tail in self.tails)\n",
    "\n",
    "    def getNewHead(self) -> Block:\n",
    "        return Block(self.color, self.x + self.vx, self.y + self.vy)\n",
    "\n",
    "    def setNewHead(self, head: Block) -> None:\n",
    "        self.x = head.x\n",
    "        self.y = head.y\n",
    "        self.tails.appendleft(head)\n",
    "        while len(self.tails) > self.length:\n",
    "            self.tails.pop()\n",
    "\n",
    "    def draw(self, surface: Surface, gridSize: float) -> None:\n",
    "        for tail in self.tails:\n",
    "            tail.draw(surface, gridSize)\n",
    "\n",
    "\n",
    "class GameState(enum.Enum):\n",
    "    Ready = enum.auto()\n",
    "    Dead = enum.auto()\n",
    "    Step = enum.auto()\n",
    "    TurnLeft = enum.auto()\n",
    "    TurnRight = enum.auto()\n",
    "    TurnUp = enum.auto()\n",
    "    TurnDown = enum.auto()\n",
    "\n",
    "\n",
    "class SnakeGame:\n",
    "    def __init__(\n",
    "            self,\n",
    "            background: Color,\n",
    "            snakeColor: Color,\n",
    "            appleColor: Color,\n",
    "            gridSize: float,\n",
    "            size: Tuple[int, int],\n",
    "            initialSnakeLength: int) -> None:\n",
    "        self.background = background\n",
    "        self.snake = Snake(snakeColor)\n",
    "        self.apple = Apple(appleColor, -1, -1)\n",
    "        self.font = pygame.font.SysFont(\"Segoe UI\", 20)\n",
    "        self.gridSize = gridSize\n",
    "        self.cols = size[0]\n",
    "        self.rows = size[1]\n",
    "        self.initialSnakeLength = initialSnakeLength\n",
    "        self.reset()\n",
    "\n",
    "    @property\n",
    "    def score(self) -> int:\n",
    "        return self.snake.length - self.initialSnakeLength\n",
    "\n",
    "    def load(self) -> None:\n",
    "        self.surface = pygame.display.set_mode(\n",
    "            (self.gridSize * self.cols, self.gridSize * self.rows))\n",
    "\n",
    "    def reset(self) -> None:\n",
    "        self.lastState = GameState.Ready\n",
    "        self.snake.reset(self.cols // 2, self.rows // 2, self.initialSnakeLength)\n",
    "        self.spawnApple()\n",
    "\n",
    "    def spawnApple(self) -> None:\n",
    "        do = True\n",
    "        while do:\n",
    "            self.apple.x = random.randint(0, self.cols - 1)\n",
    "            self.apple.y = random.randint(0, self.rows - 1)\n",
    "            do = self.snake.hitTest(self.apple)\n",
    "\n",
    "    def handleEvent(self, event: Event) -> None:\n",
    "        if event.type != pygame.KEYDOWN:\n",
    "            return\n",
    "        if self.lastState == GameState.Dead:\n",
    "            self.reset()\n",
    "            return\n",
    "        if self.lastState not in (GameState.Ready, GameState.Step):\n",
    "            self.update()\n",
    "            self.draw()\n",
    "        if event.key == pygame.K_LEFT:\n",
    "            self.lastState = GameState.TurnLeft\n",
    "        elif event.key == pygame.K_RIGHT:\n",
    "            self.lastState = GameState.TurnRight\n",
    "        elif event.key == pygame.K_UP:\n",
    "            self.lastState = GameState.TurnUp\n",
    "        elif event.key == pygame.K_DOWN:\n",
    "            self.lastState = GameState.TurnDown\n",
    "\n",
    "    def update(self) -> None:\n",
    "        if self.lastState in (GameState.Ready, GameState.Dead):\n",
    "            return\n",
    "        elif self.lastState == GameState.Step:\n",
    "            pass\n",
    "        elif self.lastState == GameState.TurnLeft:\n",
    "            if self.snake.vx == 0:\n",
    "                self.snake.vx = -1\n",
    "                self.snake.vy = 0\n",
    "        elif self.lastState == GameState.TurnRight:\n",
    "            if self.snake.vx == 0:\n",
    "                self.snake.vx = 1\n",
    "                self.snake.vy = 0\n",
    "        elif self.lastState == GameState.TurnUp:\n",
    "            if self.snake.vy == 0:\n",
    "                self.snake.vx = 0\n",
    "                self.snake.vy = -1\n",
    "        elif self.lastState == GameState.TurnDown:\n",
    "            if self.snake.vy == 0:\n",
    "                self.snake.vx = 0\n",
    "                self.snake.vy = 1\n",
    "\n",
    "        head = self.snake.getNewHead()\n",
    "        if not 0 <= head.x < self.cols or not 0 <= head.y < self.rows:\n",
    "            self.lastState = GameState.Dead\n",
    "            return\n",
    "        if self.snake.hitTest(head):\n",
    "            self.lastState = GameState.Dead\n",
    "            return\n",
    "        self.snake.setNewHead(head)\n",
    "        if head.hitTest(self.apple):\n",
    "            self.snake.length += 1\n",
    "            self.spawnApple()\n",
    "        self.lastState = GameState.Step\n",
    "\n",
    "    def draw(self) -> None:\n",
    "        self.surface.fill(self.background)\n",
    "        self.snake.draw(self.surface, self.gridSize)\n",
    "        self.apple.draw(self.surface, self.gridSize)\n",
    "        text = self.font.render(f\"Score: {self.score}\", True, (255, 255, 255))\n",
    "        self.surface.blit(text, [0, 0])\n",
    "        pygame.display.update()"
   ]
  },
  {
   "cell_type": "markdown",
   "metadata": {},
   "source": [
    "## Running the game for a human player\n",
    "\n",
    "Using `pygame.event` as the input source."
   ]
  },
  {
   "cell_type": "code",
   "execution_count": null,
   "metadata": {},
   "outputs": [],
   "source": [
    "def runGame(frameRate: int) -> None:\n",
    "    pygame.display.set_caption(\"Snake\")\n",
    "    clock = pygame.time.Clock()\n",
    "    game = SnakeGame(Color(0, 0, 0),\n",
    "                     Color(0, 0, 255),\n",
    "                     Color(255, 0, 0),\n",
    "                     20,\n",
    "                     (20, 20),\n",
    "                     5)\n",
    "    game.load()\n",
    "    while True:\n",
    "        for event in pygame.event.get():\n",
    "            if event.type == pygame.QUIT:\n",
    "                pygame.display.quit()\n",
    "                return\n",
    "            else:\n",
    "                game.handleEvent(event)\n",
    "        game.update()\n",
    "        game.draw()\n",
    "        clock.tick(frameRate)"
   ]
  },
  {
   "cell_type": "code",
   "execution_count": null,
   "metadata": {},
   "outputs": [],
   "source": [
    "# runGame(16)"
   ]
  },
  {
   "cell_type": "markdown",
   "metadata": {},
   "source": [
    "# Environment"
   ]
  },
  {
   "cell_type": "markdown",
   "metadata": {},
   "source": [
    "\n",
    "The game as `gym.Env` to use for the AI."
   ]
  },
  {
   "cell_type": "code",
   "execution_count": null,
   "metadata": {},
   "outputs": [],
   "source": [
    "from typing import Any, Dict, NamedTuple\n",
    "\n",
    "import gym\n",
    "from gym import spaces\n",
    "\n",
    "import numpy as np\n",
    "from numpy.typing import NDArray"
   ]
  },
  {
   "cell_type": "code",
   "execution_count": null,
   "metadata": {},
   "outputs": [],
   "source": [
    "class P(NamedTuple):\n",
    "    x: int\n",
    "    y: int"
   ]
  },
  {
   "cell_type": "code",
   "execution_count": null,
   "metadata": {},
   "outputs": [],
   "source": [
    "ObservationSpace = NDArray[np.bool8]\n",
    "ActionSpace = np.uint8\n",
    "\n",
    "\n",
    "class SnakeGameEnv(gym.Env):\n",
    "    Size = P(10, 10)\n",
    "    Stale = 100\n",
    "    InitialSnakeLength = 1\n",
    "\n",
    "    def __init__(self) -> None:\n",
    "        self.game = SnakeGame(Color(0, 0, 0),\n",
    "                              Color(0, 0, 255),\n",
    "                              Color(255, 0, 0),\n",
    "                              20,\n",
    "                              self.Size,\n",
    "                              self.InitialSnakeLength)\n",
    "        self.observation_space = spaces.Box(0, 1, (*self.Size, 3), np.bool8)\n",
    "        self.action_space = spaces.Discrete(4)\n",
    "\n",
    "    def reset(self) -> ObservationSpace:\n",
    "        self.game.reset()\n",
    "        self.staleCounter = 0\n",
    "        return self._getState()\n",
    "\n",
    "    def step(self, action: ActionSpace) -> Tuple[ObservationSpace, float, bool, Dict[str, Any]]:\n",
    "        prevScore = self.game.score\n",
    "        self._performAction(action)\n",
    "\n",
    "        state = self._getState()\n",
    "        reward = self._calculateReward(prevScore)\n",
    "        done = self.game.lastState == GameState.Dead or self.staleCounter >= self.Stale\n",
    "        return (state, reward, done, {})\n",
    "\n",
    "    def render(self, *args: Any, **kwargs: Any) -> None:\n",
    "        self.game.draw()\n",
    "\n",
    "    def load(self) -> None:\n",
    "        self.game.load()\n",
    "\n",
    "    def close(self) -> None:\n",
    "        pygame.display.quit()\n",
    "\n",
    "    def _getState(self) -> ObservationSpace:\n",
    "        state = np.zeros((*self.Size, 3), np.bool8)\n",
    "        for tail in self.game.snake.tails:\n",
    "            state[tail.x, tail.y, 0] = 1\n",
    "        state[self.game.snake.x, self.game.snake.y, 1] = 1\n",
    "        state[self.game.apple.x, self.game.apple.y, 2] = 1\n",
    "        return state\n",
    "\n",
    "    def _performAction(self, action: ActionSpace) -> None:\n",
    "        self.game.lastState = (\n",
    "            GameState.TurnLeft,\n",
    "            GameState.TurnRight,\n",
    "            GameState.TurnUp,\n",
    "            GameState.TurnDown,\n",
    "        )[action]\n",
    "        self.game.update()\n",
    "\n",
    "    def _calculateReward(self, prevScore: int) -> float:\n",
    "        if self.game.lastState == GameState.Dead:\n",
    "            return -self.Stale\n",
    "        elif self.game.score > prevScore:\n",
    "            self.staleCounter = 0\n",
    "            return self.Stale\n",
    "        else:\n",
    "            self.staleCounter += 1\n",
    "            return -1\n",
    "\n",
    "    def __enter__(self):\n",
    "        self.load()\n",
    "        return self\n",
    "\n",
    "    def __exit__(self, *args: Any) -> None:\n",
    "        self.close()"
   ]
  },
  {
   "cell_type": "code",
   "execution_count": null,
   "metadata": {},
   "outputs": [],
   "source": [
    "env = SnakeGameEnv()"
   ]
  },
  {
   "cell_type": "markdown",
   "metadata": {},
   "source": [
    "## Testing the environment"
   ]
  },
  {
   "cell_type": "code",
   "execution_count": null,
   "metadata": {},
   "outputs": [],
   "source": [
    "from stable_baselines3.common.env_checker import check_env\n",
    "check_env(env)"
   ]
  },
  {
   "cell_type": "code",
   "execution_count": null,
   "metadata": {},
   "outputs": [],
   "source": [
    "with env:\n",
    "    clock = pygame.time.Clock()\n",
    "    for i in range(5):\n",
    "        obs = env.reset()\n",
    "        done = False\n",
    "        score = 0\n",
    "        env.render()\n",
    "        pygame.event.pump()\n",
    "        clock.tick(30)\n",
    "\n",
    "        while not done:\n",
    "            action = env.action_space.sample()\n",
    "            obs, reward, done, info = env.step(action)\n",
    "            score += reward\n",
    "            env.render()\n",
    "            pygame.event.pump()\n",
    "            clock.tick(30)\n",
    "\n",
    "        print(f\"Episode:{i + 1} Score:{score}\")"
   ]
  },
  {
   "cell_type": "markdown",
   "metadata": {},
   "source": [
    "# Train Model"
   ]
  },
  {
   "cell_type": "markdown",
   "metadata": {},
   "source": [
    "## Using DQN with MlpPolicy"
   ]
  },
  {
   "cell_type": "code",
   "execution_count": null,
   "metadata": {},
   "outputs": [],
   "source": [
    "import os\n",
    "\n",
    "from stable_baselines3 import DQN\n",
    "from stable_baselines3.dqn.policies import MlpPolicy"
   ]
  },
  {
   "cell_type": "code",
   "execution_count": null,
   "metadata": {},
   "outputs": [],
   "source": [
    "logPath = os.path.join(\"logs\")\n",
    "modelPath = os.path.join(\"saved_models\", \"DQN2\")"
   ]
  },
  {
   "cell_type": "code",
   "execution_count": null,
   "metadata": {},
   "outputs": [],
   "source": [
    "model = DQN(\n",
    "    policy=MlpPolicy,\n",
    "    env=env,\n",
    "    verbose=1,\n",
    "    tensorboard_log=logPath)"
   ]
  },
  {
   "cell_type": "code",
   "execution_count": null,
   "metadata": {},
   "outputs": [],
   "source": [
    "model.learn(total_timesteps=1_000_000)"
   ]
  },
  {
   "cell_type": "code",
   "execution_count": null,
   "metadata": {},
   "outputs": [],
   "source": [
    "model.learn(total_timesteps=2_000_000, reset_num_timesteps=False)"
   ]
  },
  {
   "cell_type": "code",
   "execution_count": null,
   "metadata": {},
   "outputs": [],
   "source": [
    "model.save(modelPath)"
   ]
  },
  {
   "cell_type": "code",
   "execution_count": null,
   "metadata": {},
   "outputs": [],
   "source": [
    "del model"
   ]
  },
  {
   "cell_type": "markdown",
   "metadata": {},
   "source": [
    "# Evaluation"
   ]
  },
  {
   "cell_type": "code",
   "execution_count": null,
   "metadata": {},
   "outputs": [],
   "source": [
    "from stable_baselines3.common.evaluation import evaluate_policy\n",
    "from stable_baselines3.common.monitor import Monitor"
   ]
  },
  {
   "cell_type": "code",
   "execution_count": null,
   "metadata": {},
   "outputs": [],
   "source": [
    "model = DQN.load(modelPath, env)"
   ]
  },
  {
   "cell_type": "code",
   "execution_count": null,
   "metadata": {},
   "outputs": [],
   "source": [
    "with env:\n",
    "    eval = evaluate_policy(\n",
    "        model,\n",
    "        Monitor(env),\n",
    "        n_eval_episodes=10,\n",
    "        render=True,\n",
    "        return_episode_rewards=True)\n",
    "print(eval)\n",
    "print((np.average(eval[0]), np.average(eval[1])))"
   ]
  },
  {
   "cell_type": "code",
   "execution_count": null,
   "metadata": {},
   "outputs": [],
   "source": [
    "with env:\n",
    "    clock = pygame.time.Clock()\n",
    "    for i in range(5):\n",
    "        obs = env.reset()\n",
    "        done = False\n",
    "        score = 0\n",
    "        env.render()\n",
    "        pygame.event.pump()\n",
    "        clock.tick(30)\n",
    "\n",
    "        while not done:\n",
    "            action, state = model.predict(obs, deterministic=True)\n",
    "            obs, reward, done, info = env.step(action)  # type: ignore\n",
    "            score += reward\n",
    "            env.render()\n",
    "            pygame.event.pump()\n",
    "            clock.tick(30)\n",
    "\n",
    "        print(f\"Episode:{i + 1} Score:{score}\")\n"
   ]
  }
 ],
 "metadata": {
  "interpreter": {
   "hash": "b310924906a6ed297fc3431fbdf63665ba7f9e9a62039eab17e0d0ed5e374b89"
  },
  "kernelspec": {
   "display_name": "Python 3.9.9 64-bit ('.venv': venv)",
   "language": "python",
   "name": "python3"
  },
  "language_info": {
   "codemirror_mode": {
    "name": "ipython",
    "version": 3
   },
   "file_extension": ".py",
   "mimetype": "text/x-python",
   "name": "python",
   "nbconvert_exporter": "python",
   "pygments_lexer": "ipython3",
   "version": "3.10.2"
  },
  "orig_nbformat": 4
 },
 "nbformat": 4,
 "nbformat_minor": 2
}
